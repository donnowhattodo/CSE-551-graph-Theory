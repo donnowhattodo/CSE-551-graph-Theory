{
 "cells": [
  {
   "cell_type": "code",
   "execution_count": null,
   "id": "7c2957fc-9a44-4ac3-bb6b-2b40db6f2379",
   "metadata": {},
   "outputs": [],
   "source": []
  },
  {
   "cell_type": "code",
   "execution_count": 23,
   "id": "b43a2ba6-1b65-4f00-ba2e-b60f2b1e76ac",
   "metadata": {},
   "outputs": [],
   "source": [
    "import re\n",
    "import os\n",
    "from collections import defaultdict\n",
    "from scipy.stats import fisher_exact\n"
   ]
  },
  {
   "cell_type": "code",
   "execution_count": 24,
   "id": "ce6fa99d-d7bf-446b-b6fd-fcdbad0d2c3d",
   "metadata": {},
   "outputs": [],
   "source": [
    "def load_population(file_path):\n",
    "    \"\"\"Load the population file into a set.\"\"\"\n",
    "    with open(file_path, 'r') as file:\n",
    "        return set(line.strip() for line in file)\n"
   ]
  },
  {
   "cell_type": "code",
   "execution_count": 25,
   "id": "9dd52033-63e2-414a-bd7b-f0ed7946c8e3",
   "metadata": {},
   "outputs": [],
   "source": [
    "def load_gene2go(file_path):\n",
    "    \"\"\"Load the gene-to-GO mapping file into a dictionary.\"\"\"\n",
    "    gene2go = {}\n",
    "    with open(file_path, 'r') as file:\n",
    "        for line in file:\n",
    "            parts = line.strip().split('\\t')\n",
    "            gene = parts[0]\n",
    "            go_terms = parts[1].split(';') if len(parts) > 1 else []\n",
    "            gene2go[gene] = go_terms\n",
    "    return gene2go\n"
   ]
  },
  {
   "cell_type": "code",
   "execution_count": 26,
   "id": "688d7718-d9d1-4d24-b8ea-6f9bf69bdb84",
   "metadata": {},
   "outputs": [],
   "source": [
    "def load_communities(file_path):\n",
    "    \"\"\"Load the graph communities file into a dictionary.\"\"\"\n",
    "    communities = {}\n",
    "    with open(file_path, 'r') as file:\n",
    "        for line in file:\n",
    "            match = re.match(r\"Community (\\d+): (.+)\", line.strip())\n",
    "            if match:\n",
    "                community_id = int(match.group(1))\n",
    "                genes = match.group(2).split(',')\n",
    "                communities[community_id] = genes\n",
    "    return communities"
   ]
  },
  {
   "cell_type": "code",
   "execution_count": 27,
   "id": "7be5685b-66e7-4a99-856b-032bc2bd7436",
   "metadata": {},
   "outputs": [],
   "source": [
    "def perform_enrichment_analysis(community_id, community_genes, population, gene2go, output_file, significant_genes, pval_threshold=0.05):\n",
    "    \"\"\"\n",
    "    Perform Gene Ontology enrichment analysis for a single community.\n",
    "    Outputs results to a file with p-values and odds ratios.\n",
    "    Appends gene and GO term data to significant_genes if p-value is below threshold.\n",
    "    \"\"\"\n",
    "    # Calculate GO term frequencies in the population\n",
    "    go_population_count = defaultdict(int)\n",
    "    for gene in population:\n",
    "        for go_term in gene2go.get(gene, []):\n",
    "            go_population_count[go_term] += 1\n",
    "    total_population_genes = len(population)\n",
    "\n",
    "    # Count GO terms in the community\n",
    "    go_community_count = defaultdict(int)\n",
    "    for gene in community_genes:\n",
    "        for go_term in gene2go.get(gene, []):\n",
    "            go_community_count[go_term] += 1\n",
    "    total_community_genes = len(community_genes)\n",
    "\n",
    "    # Perform enrichment analysis for each GO term\n",
    "    with open(output_file, 'w') as file:\n",
    "        file.write(\"GO Term\\tGenes in Community\\tGenes in Population\\tp-value\\tOdds Ratio\\n\")\n",
    "        for go_term, count_in_community in go_community_count.items():\n",
    "            count_in_population = go_population_count.get(go_term, 0)\n",
    "            count_not_in_community = total_community_genes - count_in_community\n",
    "            count_not_in_population = total_population_genes - count_in_population\n",
    "\n",
    "            # Skip GO terms with insufficient data\n",
    "            if count_in_population == 0 or count_not_in_population == 0:\n",
    "                continue\n",
    "\n",
    "            # Build the contingency table\n",
    "            contingency_table = [\n",
    "                [count_in_community, count_in_population],\n",
    "                [count_not_in_community, count_not_in_population]\n",
    "            ]\n",
    "\n",
    "            # Perform Fisher's exact test\n",
    "            _, p_value = fisher_exact(contingency_table, alternative='greater')\n",
    "\n",
    "            # Calculate odds ratio\n",
    "            odds_ratio = (\n",
    "                (count_in_community * count_not_in_population) /\n",
    "                (count_not_in_community * count_in_population)\n",
    "            ) if count_not_in_community > 0 else 0\n",
    "\n",
    "            # Write results for this GO term\n",
    "            file.write(f\"{go_term}\\t{count_in_community}\\t{count_in_population}\\t\"\n",
    "                       f\"{p_value:.6f}\\t{odds_ratio:.4f}\\n\")\n",
    "\n",
    "            # Record significant genes for the summary file (if p-value is below threshold)\n",
    "            if p_value <= pval_threshold:\n",
    "                for gene in community_genes:\n",
    "                    if go_term in gene2go.get(gene, []):\n",
    "                        significant_genes[community_id].add(gene)"
   ]
  },
  {
   "cell_type": "code",
   "execution_count": 28,
   "id": "6d781ce1-1748-451c-a788-b81669b1c42a",
   "metadata": {},
   "outputs": [],
   "source": [
    "def save_significant_genes_per_community(significant_genes, output_file):\n",
    "    \"\"\"\n",
    "    Save all significant genes for each community in a single text file.\n",
    "    \"\"\"\n",
    "    with open(output_file, 'w') as file:\n",
    "        for community_id, genes in significant_genes.items():\n",
    "            # Write community ID and the list of significant genes\n",
    "            file.write(f\"community_{community_id}: {' '.join(genes)}\\n\")\n",
    "    print(f\"Significant genes saved in {output_file}\")\n"
   ]
  },
  {
   "cell_type": "code",
   "execution_count": 29,
   "id": "bde89977-a911-49e6-8f77-2fa7643d7b87",
   "metadata": {},
   "outputs": [],
   "source": [
    "def enrichment_analysis_per_community(population_file, gene2go_file, communities_file, output_dir, pval_threshold=0.05):\n",
    "    \"\"\"\n",
    "    Perform enrichment analysis for all communities, generating individual output files per community.\n",
    "    \"\"\"\n",
    "    if not os.path.exists(output_dir):\n",
    "        os.makedirs(output_dir)\n",
    "\n",
    "    # Load input data\n",
    "    population = load_population(population_file)\n",
    "    gene2go = load_gene2go(gene2go_file)\n",
    "    communities = load_communities(communities_file)\n",
    "\n",
    "    # Dictionary to hold significant genes for each community (using sets to avoid duplicates)\n",
    "    significant_genes = defaultdict(set)\n",
    "\n",
    "    # Process each community\n",
    "    for community_id, community_genes in communities.items():\n",
    "        # Filter genes in the community by the population\n",
    "        community_genes = [gene for gene in community_genes if gene in population]\n",
    "        if not community_genes:\n",
    "            continue\n",
    "\n",
    "        # Output file for this community\n",
    "        output_file = os.path.join(output_dir, f\"community_{community_id}_enrichment.tsv\")\n",
    "\n",
    "        # Perform enrichment analysis\n",
    "        perform_enrichment_analysis(community_id, community_genes, population, gene2go, output_file, significant_genes, pval_threshold)\n",
    "\n",
    "    return significant_genes\n",
    "\n"
   ]
  },
  {
   "cell_type": "markdown",
   "id": "49495aab-c99f-4f3a-bf5d-a3f132738f8d",
   "metadata": {},
   "source": [
    "## Graph Communities Enrichment"
   ]
  },
  {
   "cell_type": "code",
   "execution_count": 31,
   "id": "f792ed8a-51ec-4f9b-b957-b9baeb0c150b",
   "metadata": {},
   "outputs": [],
   "source": [
    "def main(population_file, gene2go_file, communities_file, individual_output_dir, summary_file, pval_threshold=0.05):\n",
    "    \"\"\"\n",
    "    Main function to perform enrichment analysis and save results.\n",
    "    \"\"\"\n",
    "    # Perform enrichment analysis and gather significant genes\n",
    "    significant_genes = enrichment_analysis_per_community(population_file, gene2go_file, communities_file, individual_output_dir, pval_threshold)\n",
    "\n",
    "    # Save significant genes in the required format\n",
    "    save_significant_genes_per_community(significant_genes, summary_file)\n",
    "\n",
    "    print(f\"Enrichment analysis completed. Summary saved in '{summary_file}'.\")\n",
    "\n",
    "# file paths\n",
    "population_file = \"Population.txt\"\n",
    "gene2go_file = \"gene2golist2.txt\"\n",
    "communities_file = \"graph_communities.txt\"\n",
    "individual_output_dir = \"2_Graph_enrichment_results\"\n",
    "summary_file = \"2_significant_graph_genes_summary_0.05.txt\"\n"
   ]
  },
  {
   "cell_type": "code",
   "execution_count": 32,
   "id": "2627972b-5403-408b-a24f-d8ff2eb44b8c",
   "metadata": {},
   "outputs": [
    {
     "name": "stdout",
     "output_type": "stream",
     "text": [
      "Significant genes saved in 2_significant_graph_genes_summary_0.05.txt\n",
      "Enrichment analysis completed. Summary saved in '2_significant_graph_genes_summary_0.05.txt'.\n"
     ]
    }
   ],
   "source": [
    "# Run the main function with inputs\n",
    "main(population_file, gene2go_file, communities_file, individual_output_dir, summary_file, pval_threshold=0.05)"
   ]
  },
  {
   "cell_type": "markdown",
   "id": "e7bc734d-5815-4133-b0ca-1b01b9fed397",
   "metadata": {},
   "source": [
    "## HyperGraph Communities Enrichment"
   ]
  },
  {
   "cell_type": "code",
   "execution_count": 49,
   "id": "b910b863-2b02-46d4-9284-3f134f077fe0",
   "metadata": {},
   "outputs": [],
   "source": [
    "def main(population_file, gene2go_file, communities_file, individual_output_dir, summary_file, pval_threshold=0.05):\n",
    "    \"\"\"\n",
    "    Main function to perform enrichment analysis and save results.\n",
    "    \"\"\"\n",
    "    # Perform enrichment analysis and gather significant genes\n",
    "    significant_genes = enrichment_analysis_per_community(population_file, gene2go_file, communities_file, individual_output_dir, pval_threshold)\n",
    "\n",
    "    # Save significant genes in the required format\n",
    "    save_significant_genes_per_community(significant_genes, summary_file)\n",
    "\n",
    "    print(f\"Enrichment analysis completed. Summary saved in '{summary_file}'.\")\n",
    "\n",
    "# file paths\n",
    "population_file = \"Population.txt\"\n",
    "gene2go_file = \"gene2golist2.txt\"\n",
    "communities_file = \"hypergraph_communities.txt\"\n",
    "individual_output_dir = \"2_HyperGraph_enrichment_results\"\n",
    "summary_file = \"2_significant_Hypergraph_genes_summary_0.05.txt\"\n"
   ]
  },
  {
   "cell_type": "code",
   "execution_count": 51,
   "id": "90416251-dd51-41fc-a42f-9048fdcf9858",
   "metadata": {},
   "outputs": [
    {
     "name": "stdout",
     "output_type": "stream",
     "text": [
      "Significant genes saved in 2_significant_Hypergraph_genes_summary_0.05.txt\n",
      "Enrichment analysis completed. Summary saved in '2_significant_Hypergraph_genes_summary_0.05.txt'.\n"
     ]
    }
   ],
   "source": [
    "# Run the main function with inputs\n",
    "main(population_file, gene2go_file, communities_file, individual_output_dir, summary_file, pval_threshold=0.05)"
   ]
  },
  {
   "cell_type": "code",
   "execution_count": null,
   "id": "63550ba7-bdc2-4bc5-aa3b-9782cea15d7b",
   "metadata": {},
   "outputs": [],
   "source": []
  }
 ],
 "metadata": {
  "kernelspec": {
   "display_name": "Python [conda env:goatools]",
   "language": "python",
   "name": "conda-env-goatools-py"
  },
  "language_info": {
   "codemirror_mode": {
    "name": "ipython",
    "version": 3
   },
   "file_extension": ".py",
   "mimetype": "text/x-python",
   "name": "python",
   "nbconvert_exporter": "python",
   "pygments_lexer": "ipython3",
   "version": "3.9.21"
  }
 },
 "nbformat": 4,
 "nbformat_minor": 5
}
